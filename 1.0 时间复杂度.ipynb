{
 "cells": [
  {
   "cell_type": "markdown",
   "metadata": {},
   "source": [
    "## 1.0时间复杂度"
   ]
  },
  {
   "cell_type": "code",
   "execution_count": 1,
   "metadata": {},
   "outputs": [
    {
     "name": "stdout",
     "output_type": "stream",
     "text": [
      "a,b,c:0,500,500\n",
      "a,b,c:200,375,425\n",
      "a,b,c:375,200,425\n",
      "a,b,c:500,0,500\n",
      "time:151\n",
      "finished\n"
     ]
    }
   ],
   "source": [
    "import time\n",
    "start_time = time.time()\n",
    "for a in range(0,1001):\n",
    "    for b in range(0,1001):\n",
    "        for c in range(0,1001):\n",
    "            if a+b+c==1000 and a**2+b**2==c**2:\n",
    "                print('a,b,c:%d,%d,%d'%(a,b,c))\n",
    "end_time = time.time()\n",
    "print('time:%d'%(end_time-start_time))\n",
    "print('finished')"
   ]
  },
  {
   "cell_type": "code",
   "execution_count": 2,
   "metadata": {},
   "outputs": [
    {
     "name": "stdout",
     "output_type": "stream",
     "text": [
      "a,b,c:0,500,500\n",
      "a,b,c:200,375,425\n",
      "a,b,c:375,200,425\n",
      "a,b,c:500,0,500\n",
      "time:1\n",
      "finished\n"
     ]
    }
   ],
   "source": [
    "import time\n",
    "start_time = time.time()\n",
    "for a in range(0,1001):\n",
    "    for b in range(0,1001):\n",
    "        c=1000-a-b\n",
    "        if a**2+b**2==c**2:\n",
    "            print('a,b,c:%d,%d,%d'%(a,b,c))\n",
    "end_time = time.time()\n",
    "print('time:%d'%(end_time-start_time))\n",
    "print('finished')"
   ]
  },
  {
   "cell_type": "raw",
   "metadata": {},
   "source": [
    "T1 = 1000*1000*1000*2\n",
    "T2 = 1000*1000*3\n",
    "时间复杂度\n",
    "T1 = n^3*2\n",
    "T2 = n^2*3\n",
    "大O表示法\n",
    "T1 = n^3\n",
    "T2 = n^2\n",
    "最坏时间复杂度\n",
    "数据分布不同，结果复杂度不同，取底线"
   ]
  },
  {
   "cell_type": "raw",
   "metadata": {},
   "source": [
    "计算规则：\n",
    "1.基本操作，O(1)\n",
    "2.顺序：加法\n",
    "3.循环:乘法\n",
    "4.分支：取max\n",
    "5.判断效率时，往往是关注操作数量的最高次频，忽略常数项和次要项"
   ]
  },
  {
   "cell_type": "raw",
   "metadata": {},
   "source": [
    "list:\n",
    "indexx[]                 O(1)\n",
    "index assignment         O(1)\n",
    "append                   O(1)\n",
    "pop()                    O(1)\n",
    "pop(i)                   O(n)\n",
    "insert(i,item)           O(n)\n",
    "del operator             O(n)\n",
    "iteration                O(n)\n",
    "contains(in)             O(n)\n",
    "get slice[x:y]           O(k):k=y-x\n",
    "del slice                O(n):删除后元素前移\n",
    "set slice                O(n+k)：删除原来元素n，补充新添k\n",
    "reverse                  O(n)\n",
    "concatenate              O(k)：第一个列表的元素\n",
    "sort                     O(nlogn)：内置的算法\n",
    "multiply                 O(nk)：nk个元素"
   ]
  },
  {
   "cell_type": "raw",
   "metadata": {},
   "source": [
    "dict:\n",
    "copy                     O(n)\n",
    "get item                 O(1)\n",
    "set item                 O(1)\n",
    "delete item              O(1):删除键\n",
    "contains(in)             O(1)\n",
    "iteration                O(n)"
   ]
  },
  {
   "cell_type": "raw",
   "metadata": {},
   "source": [
    "O(1)<O(logn)<O(n)<O(nlogn)<O(n^2)<O(n^3)<O(n!)<O(n^n)"
   ]
  },
  {
   "cell_type": "markdown",
   "metadata": {},
   "source": [
    "## 2.0 时间分析"
   ]
  },
  {
   "cell_type": "raw",
   "metadata": {},
   "source": [
    "timeit模块\n",
    "class timeit.Timer(stmt='pass',setup='pass',time=<timer function>)\n",
    "timeit.Timer.time(number=n)"
   ]
  },
  {
   "cell_type": "code",
   "execution_count": 22,
   "metadata": {},
   "outputs": [
    {
     "name": "stdout",
     "output_type": "stream",
     "text": [
      "append: 1.1090507208392637\n",
      "+: 204.68351251984006\n",
      "[li for i in eang()]: 0.4859127515055661\n",
      "list(range()): 0.36161278852796386\n",
      "extend: 1.6451469353792163\n",
      "+=: 0.854921611248983\n"
     ]
    }
   ],
   "source": [
    "from timeit import Timer\n",
    "\n",
    "def t1():\n",
    "    li=[]\n",
    "    for i in range(10000):\n",
    "        li.append(i)\n",
    "    \n",
    "def t2():\n",
    "    li = []\n",
    "    for i in range(10000):\n",
    "        li = li + [i]\n",
    "        \n",
    "def t3():\n",
    "    li = [i for i in range(10000)]\n",
    "    \n",
    "def t4():\n",
    "    li = list(range(10000))\n",
    "\n",
    "def t5():\n",
    "    li=[]\n",
    "    for i in range(10000):\n",
    "        li.extend([i])\n",
    "        \n",
    "def t6():\n",
    "    li=[]\n",
    "    for i in range(10000):\n",
    "        li += [i]\n",
    "        \n",
    "timer1 =Timer(\"t1()\",'from __main__ import t1')\n",
    "print('append:',timer1.timeit(1000))\n",
    "\n",
    "timer2 =Timer(\"t2()\",'from __main__ import t2')\n",
    "print('+:',timer2.timeit(1000))\n",
    "\n",
    "timer3 =Timer(\"t3()\",'from __main__ import t3')\n",
    "print('[li for i in eang()]:',timer3.timeit(1000))\n",
    "\n",
    "timer4 =Timer(\"t4()\",'from __main__ import t4')\n",
    "print('list(range()):',timer4.timeit(1000))\n",
    "\n",
    "timer5 =Timer(\"t5()\",'from __main__ import t5')\n",
    "print('extend:',timer5.timeit(1000))\n",
    "\n",
    "timer6 =Timer(\"t6()\",'from __main__ import t6')\n",
    "print('+=:',timer6.timeit(1000))"
   ]
  },
  {
   "cell_type": "code",
   "execution_count": 24,
   "metadata": {},
   "outputs": [
    {
     "name": "stdout",
     "output_type": "stream",
     "text": [
      "insert: 29.209894540828827\n"
     ]
    }
   ],
   "source": [
    "def t7():\n",
    "    li=[]\n",
    "    for i in range(10000):\n",
    "        li.insert(0,i)\n",
    "\n",
    "timer7 =Timer(\"t7()\",'from __main__ import t7')\n",
    "print('insert:',timer7.timeit(1000))        "
   ]
  },
  {
   "cell_type": "markdown",
   "metadata": {},
   "source": [
    "## 3.0 数据结构引入"
   ]
  },
  {
   "cell_type": "markdown",
   "metadata": {},
   "source": [
    "数据结构是对基本数据类型的封装\n",
    "\n",
    "算法是解决问题的过程\n",
    "\n",
    "数据结构只是静态的描述了数据元素之间的关系\n",
    "\n",
    "程序=数据结构+算法\n",
    "\n",
    "总结：算法是为了解决实际问题而设计的，数据结构是算法处理问题的载体"
   ]
  },
  {
   "cell_type": "code",
   "execution_count": null,
   "metadata": {},
   "outputs": [],
   "source": [
    "学生信息录入：name,age,hometown\n",
    "#list \n",
    "[\n",
    "    ('zhangsan',24,'beijing')\n",
    "]\n",
    "\n",
    "[\n",
    "    {'name':'zhangsan',\n",
    "      'age':24,\n",
    "      'hometown':'beijing'}\n",
    "]\n",
    "\n",
    "#dict \n",
    "{\n",
    "    'zhangsan':{\n",
    "    'age':24,\n",
    "    'hometown':'beijing'}\n",
    "}"
   ]
  },
  {
   "cell_type": "markdown",
   "metadata": {},
   "source": [
    "## 抽象数据类型ADT"
   ]
  },
  {
   "cell_type": "markdown",
   "metadata": {},
   "source": [
    "抽象数据类型：数据类型+支持的操作"
   ]
  },
  {
   "cell_type": "code",
   "execution_count": null,
   "metadata": {},
   "outputs": [],
   "source": [
    "class Stu(object):\n",
    "    def adds(self)_\n",
    "    def pop\n",
    "    def sort\n",
    "    def modify\n",
    "    "
   ]
  },
  {
   "cell_type": "markdown",
   "metadata": {},
   "source": [
    "程序：战场\n",
    "\n",
    "码农：将军\n",
    "\n",
    "代码：士兵+武器\n",
    "\n",
    "数据结构与算法：兵法"
   ]
  },
  {
   "cell_type": "markdown",
   "metadata": {},
   "source": [
    "没有数据结构与算法：\n",
    "1.没有思路，无从下手\n",
    "2.运行效率和开销\n",
    "3.借助别人工具，无法进行优化|"
   ]
  },
  {
   "cell_type": "markdown",
   "metadata": {},
   "source": [
    "算法五大特性\n",
    "1.输入：0个或多个\n",
    "2.输出：至少一个\n",
    "3.有穷性：有限步骤\n",
    "4.确定性：不会有二义性\n",
    "5.可行性：每一步可行"
   ]
  }
 ],
 "metadata": {
  "kernelspec": {
   "display_name": "Python 3",
   "language": "python",
   "name": "python3"
  },
  "language_info": {
   "codemirror_mode": {
    "name": "ipython",
    "version": 3
   },
   "file_extension": ".py",
   "mimetype": "text/x-python",
   "name": "python",
   "nbconvert_exporter": "python",
   "pygments_lexer": "ipython3",
   "version": "3.6.4"
  }
 },
 "nbformat": 4,
 "nbformat_minor": 2
}
